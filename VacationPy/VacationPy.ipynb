{
 "cells": [
  {
   "cell_type": "markdown",
   "metadata": {},
   "source": [
    "# VacationPy\n",
    "----\n",
    "\n",
    "#### Note\n",
    "* Instructions have been included for each segment. You do not have to follow them exactly, but they are included to help you think through the steps."
   ]
  },
  {
   "cell_type": "code",
   "execution_count": null,
   "metadata": {},
   "outputs": [],
   "source": [
    "# Dependencies and Setup\n",
    "import matplotlib.pyplot as plt\n",
    "import pandas as pd\n",
    "import numpy as np\n",
    "import requests\n",
    "import gmaps\n",
    "import os\n",
    "\n",
    "# Import API key\n",
    "from config import gkey\n"
   ]
  },
  {
   "cell_type": "markdown",
   "metadata": {},
   "source": [
    "### Store Part I results into DataFrame\n",
    "* Load the csv exported in Part I to a DataFrame"
   ]
  },
  {
   "cell_type": "code",
   "execution_count": null,
   "metadata": {},
   "outputs": [],
   "source": [
    "cities = pd.read_csv(\"output_data/cities.csv\", encoding=\"utf-8\")\n",
    "cities.head()"
   ]
  },
  {
   "cell_type": "markdown",
   "metadata": {},
   "source": [
    "### Humidity Heatmap\n",
    "* Configure gmaps.\n",
    "* Use the Lat and Lng as locations and Humidity as the weight.\n",
    "* Add Heatmap layer to map."
   ]
  },
  {
   "cell_type": "code",
   "execution_count": null,
   "metadata": {},
   "outputs": [],
   "source": [
    "humidity = cities[\"Humidity\"].astype(float)\n",
    "maxhumidity = humidity.max()\n",
    "locations = cities[[\"Lat\", \"Lng\"]]"
   ]
  },
  {
   "cell_type": "code",
   "execution_count": null,
   "metadata": {},
   "outputs": [],
   "source": [
    "fig = gmaps.figure()\n",
    "heat_layer = gmaps.heatmap_layer(locations, weights=humidity,dissipating=False, max_intensity=maxhumidity,point_radius=3)\n",
    "fig.add_layer(heat_layer)\n",
    "fig"
   ]
  },
  {
   "cell_type": "markdown",
   "metadata": {},
   "source": [
    "### Create new DataFrame fitting weather criteria\n",
    "* Narrow down the cities to fit weather conditions.\n",
    "* Drop any rows will null values."
   ]
  },
  {
   "cell_type": "code",
   "execution_count": null,
   "metadata": {},
   "outputs": [],
   "source": [
    "narrowed_city_df = cities.loc[(cities[\"Max Temp\"] > 70) & (cities[\"Max Temp\"] < 80) & (cities[\"Cloudiness\"] == 0), :]\n",
    "narrowed_city_df = narrowed_city_df.dropna(how='any')\n",
    "narrowed_city_df.reset_index(inplace=True)\n",
    "del narrowed_city_df['index']\n",
    "narrowed_city_df.head()"
   ]
  },
  {
   "cell_type": "markdown",
   "metadata": {},
   "source": [
    "### Hotel Map\n",
    "* Store into variable named `hotel_df`.\n",
    "* Add a \"Hotel Name\" column to the DataFrame.\n",
    "* Set parameters to search for hotels with 5000 meters.\n",
    "* Hit the Google Places API for each city's coordinates.\n",
    "* Store the first Hotel result into the DataFrame.\n",
    "* Plot markers on top of the heatmap."
   ]
  },
  {
   "cell_type": "code",
   "execution_count": null,
   "metadata": {},
   "outputs": [],
   "source": [
    "hotel_df = narrowed_city_df\n",
    "\n",
    "# params dictionary to update each iteration\n",
    "params = {\n",
    "    \"radius\": 5000,\n",
    "    \"types\": \"lodging\",\n",
    "    \"key\": gkey\n",
    "}\n",
    "\n",
    "\n",
    "for index, row in hotel_df.iterrows():\n",
    "    # get lat, lng from df\n",
    "    lat = row[\"Lat\"]\n",
    "    lng = row[\"Lng\"]\n",
    "\n",
    "    # change location each iteration while leaving original params in place\n",
    "    params[\"location\"] = f\"{lat},{lng}\"\n",
    "    \n",
    "    base_url = \"https://maps.googleapis.com/maps/api/place/nearbysearch/json\"\n",
    "\n",
    "    # assemble url and make API request\n",
    "    print(f\"Retrieving Results for Index {index}: {row['City']}.\")\n",
    "    response = requests.get(base_url, params=params).json()\n",
    "    # print(json.dumps(response, indent=4, sort_keys=True))\n",
    "    \n",
    "    # extract results\n",
    "    results = response['results']\n",
    "    \n",
    "    try:\n",
    "        print(f\"Closest hotel is {results[0]['name']}.\")\n",
    "        hotel_df.loc[index, 'Hotel Name'] = results[0]['name']\n",
    "        \n",
    "    except (KeyError, IndexError):\n",
    "        print(\"Missing field/result... skipping.\")\n",
    "        \n",
    "    print(\"------------\")"
   ]
  },
  {
   "cell_type": "code",
   "execution_count": null,
   "metadata": {},
   "outputs": [],
   "source": [
    "hotel_df"
   ]
  },
  {
   "cell_type": "code",
   "execution_count": null,
   "metadata": {},
   "outputs": [],
   "source": [
    "# NOTE: Do not change any of the code in this cell\n",
    "\n",
    "# Using the template add the hotel marks to the heatmap\n",
    "info_box_template = \"\"\"\n",
    "<dl>\n",
    "<dt>Name</dt><dd>{Hotel Name}</dd>\n",
    "<dt>City</dt><dd>{City}</dd>\n",
    "<dt>Country</dt><dd>{Country}</dd>\n",
    "</dl>\n",
    "\"\"\"\n",
    "# Store the DataFrame Row\n",
    "# NOTE: be sure to update with your DataFrame name\n",
    "hotel_info = [info_box_template.format(**row) for index, row in narrowed_city_df.iterrows()]\n",
    "locations = hotel_df[[\"Lat\", \"Lng\"]]"
   ]
  },
  {
   "cell_type": "code",
   "execution_count": null,
   "metadata": {},
   "outputs": [],
   "source": [
    "# Add marker layer ontop of heat map\n",
    "marker_layer = gmaps.marker_layer(locations, info_box_content=hotel_info)\n",
    "fig.add_layer(marker_layer)\n",
    "# Display Map\n",
    "fig"
   ]
  },
  {
   "cell_type": "code",
   "execution_count": null,
   "metadata": {},
   "outputs": [],
   "source": []
  }
 ],
 "metadata": {
  "kernelspec": {
   "display_name": "Python 3.7.4 64-bit ('ProgramData': virtualenv)",
   "language": "python",
   "name": "python37464bitprogramdatavirtualenv0643271c02e644899ecdf6f768927170"
  },
  "language_info": {
   "codemirror_mode": {
    "name": "ipython",
    "version": 3
   },
   "file_extension": ".py",
   "mimetype": "text/x-python",
   "name": "python",
   "nbconvert_exporter": "python",
   "pygments_lexer": "ipython3",
   "version": "3.7.4"
  },
  "latex_envs": {
   "LaTeX_envs_menu_present": true,
   "autoclose": false,
   "autocomplete": true,
   "bibliofile": "biblio.bib",
   "cite_by": "apalike",
   "current_citInitial": 1,
   "eqLabelWithNumbers": true,
   "eqNumInitial": 1,
   "hotkeys": {
    "equation": "Ctrl-E",
    "itemize": "Ctrl-I"
   },
   "labels_anchors": false,
   "latex_user_defs": false,
   "report_style_numbering": false,
   "user_envs_cfg": false
  }
 },
 "nbformat": 4,
 "nbformat_minor": 2
}
